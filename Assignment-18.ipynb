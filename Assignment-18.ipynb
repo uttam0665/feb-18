{
 "cells": [
  {
   "cell_type": "code",
   "execution_count": null,
   "id": "81d2d28c",
   "metadata": {},
   "outputs": [],
   "source": [
    "Q1. What is an API? Give an example, where an API is used in real life.\n",
    "Ans:-\n",
    "    An Application Programming Interface or an API is a set of definitions and protocols through which applications communicate with each other.\n",
    "    With API your application or service can use the functions provided by another application without needing to know how that other application is being implemented.\n",
    "    APIs can also serve as an intermediary layer for data transfers between system applications, allowing businesses to open their application data and functionality to third-party developers, business partners, as well as internal departments within their organizations.\n",
    "    \n",
    "    Example:- consider an app like Zomato which uses API to show the restaurant locations on Google Maps without needing to know how the location is determined internally.\n",
    "       \n",
    "    Weather data is a popular API example that we come across regularly. Rich weather snippets appear ubiquitous, appearing on all platforms such as Google Search, Apple's Weather app, and even your smart home device.    "
   ]
  },
  {
   "cell_type": "code",
   "execution_count": null,
   "id": "804e3445",
   "metadata": {},
   "outputs": [],
   "source": [
    "Q2. Give advantages and disadvantages of using API.\n",
    "Ans:-\n",
    "    Advantages:-\n",
    "Advantages of using APIs \n",
    " \n",
    "1. Automation: with APIs, computers rather than people can manage the work. Through APIs, agencies can update work flows to make them quicker and more productive.\n",
    "\n",
    "2. Application: because APIs can access the app components, the delivery of services and information is more flexible.\n",
    "\n",
    "3. More scope: with an API an application layer can be created which can be used to distribute information and services to new audiences which can be personalized to create custom user experiences.\n",
    "\n",
    "4.New data available: an API allows all of the information generated at the government level to be available to every citizen, not just a select few.\n",
    "\n",
    "5.Efficiency: when access is provided to an API, the content generated can be published automatically and is available for every channel. It allows it to be shared and distributed more easily.\n",
    "\n",
    "Disadvantages:-\n",
    "\n",
    "1.Creating API is a very time-consuming process.\n",
    "\n",
    "2.A fixed scale is necessary.\n",
    "\n",
    "3.Imprecise boundary delineation.\n",
    "\n",
    "4.To create API, programming knowledge is necessary.\n",
    "\n",
    "5.Maintenance cost is very high.\n",
    "\n",
    "6.It can crash when testing API."
   ]
  },
  {
   "cell_type": "code",
   "execution_count": null,
   "id": "ed7b6366",
   "metadata": {},
   "outputs": [],
   "source": [
    "Q3. What is a Web API? Differentiate between API and Web API.\n",
    "Ans:-\n",
    "    API stands for Application Programming Interface. A Web API is an application programming interface for the Web.\n",
    "    A Browser API can extend the functionality of a web browser. \n",
    "    A Server API can extend the functionality of a web server.\n",
    "    \n",
    "API:-\n",
    "1. It uses HTML requests that can be compressed, but XML data cannot be compressed.\n",
    "2. Generally, it uses the HTTP protocol for communication. It also uses SOAP, REST, and XML-RPC as communication.\n",
    "3. A web service is just an API wrapped in HTTP.\n",
    "4. All Web Services are APIs.\n",
    "\n",
    "WEB Apl:-\n",
    "1. Web API is used as an interface between two different applications for communicating with each other.    \n",
    "2. Data can be compressed.\n",
    "3. It may use any means of communication protocols such as HTTP/HTTPS to initiate the interaction between applications.\n",
    "4. It's not always be a web-based\n",
    "5. All APIs are not web services."
   ]
  },
  {
   "cell_type": "code",
   "execution_count": null,
   "id": "ea108350",
   "metadata": {},
   "outputs": [],
   "source": [
    "Q4.Explain REST and SOAP Architecture. Mention shortcomings of SOAP.\n",
    "Ans:-\n",
    "    REST and SOAP are 2 different approaches to online data transmission.\n",
    "    \n",
    "    Rest:-  \n",
    "An application is said to be RESTful if it follows 6 architectural guidelines. A RESTful application must have:\n",
    "\n",
    "1. A client-server architecture composed of clients, servers, and resources.\n",
    "2. Stateless client-server communication, meaning no client content is stored on the server between requests. Information about the session’s state is instead held with the client.\n",
    "3. Cacheable data to eliminate the need for some client-server interactions.\n",
    "4. A uniform interface between components so that information is transferred in a standardized form instead of specific to an application’s needs. This is described by Roy Fielding, the originator of REST, as “the central feature that distinguishes the REST architectural style from other network-based styles.”\n",
    "5. A layered system constraint, where client-server interactions can be mediated by hierarchical layers.\n",
    "6. Code on demand, allowing servers to extend the functionality of a client by transferring executable code (though also reducing visibility, making this an optional guideline).\n",
    "\n",
    "SOAP:-\n",
    "    Common web service specifications include:\n",
    "\n",
    "1. Web services security (WS-security): Standardizes how messages are secured and transferred through unique identifiers called tokens.\n",
    "2. WS-ReliableMessaging: Standardizes error handling between messages transferred across unreliable IT infrastructure.\n",
    "3. Web services addressing (WS-addressing): Packages routing information as metadata within SOAP headers, instead of maintaining such information deeper within the network.\n",
    "4. Web services description language (WSDL): Describes what a web service does, and where that service begins and ends.\n",
    "\n",
    "shortcomings of SOAP.:-\n",
    "    \n",
    "1. Relies on SOAP (Simple Object Access Protocol) \n",
    "2. Transports data in standard XML format.\n",
    "3. Because it is XML based and relies on SOAP, it works with WSDL\n",
    "4. Works over HTTP, HTTPS, SMTP, XMPP\n",
    "5. Highly structured/typed"
   ]
  },
  {
   "cell_type": "code",
   "execution_count": null,
   "id": "7de5906f",
   "metadata": {},
   "outputs": [],
   "source": [
    "Q5.Differentiate between REST and SOAP. \n",
    "Ans:-\n",
    "\n",
    "SOAP:-\n",
    "1. Relies on SOAP (Simple Object Access Protocol) \n",
    "2. Transports data in standard XML format.\n",
    "3. Because it is XML based and relies on SOAP, it works with WSDL\n",
    "4. Works over HTTP, HTTPS, SMTP, XMPP\n",
    "5. Highly structured/typed\n",
    "\n",
    "SOAP:-\n",
    "1. Relies on REST (Representational State Transfer) architecture using HTTP.\n",
    "2. Generally transports data in JSON. It is based on URI. Because REST follows stateless model, REST does not enforces message format as XML or JSON etc.\n",
    "3. It works with GET, POST, PUT, DELETE\n",
    "4. Works over HTTP and HTTPS\n",
    "5. Less structured -> less bulky data"
   ]
  },
  {
   "cell_type": "code",
   "execution_count": null,
   "id": "804c1781",
   "metadata": {},
   "outputs": [],
   "source": []
  },
  {
   "cell_type": "code",
   "execution_count": null,
   "id": "d4155ba7",
   "metadata": {},
   "outputs": [],
   "source": []
  }
 ],
 "metadata": {
  "kernelspec": {
   "display_name": "Python 3 (ipykernel)",
   "language": "python",
   "name": "python3"
  },
  "language_info": {
   "codemirror_mode": {
    "name": "ipython",
    "version": 3
   },
   "file_extension": ".py",
   "mimetype": "text/x-python",
   "name": "python",
   "nbconvert_exporter": "python",
   "pygments_lexer": "ipython3",
   "version": "3.9.13"
  }
 },
 "nbformat": 4,
 "nbformat_minor": 5
}
